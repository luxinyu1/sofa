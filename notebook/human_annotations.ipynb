{
 "cells": [
  {
   "cell_type": "code",
   "execution_count": 5,
   "metadata": {},
   "outputs": [],
   "source": [
    "annotations = \"\"\"0, 0, 5\n",
    "0, 0, 5\n",
    "1, 0, 3\n",
    "0, 0, 5\n",
    "0, 0, 5\n",
    "0, 1, 4\n",
    "0, 0, 5\n",
    "0, 1, 3\n",
    "0, 0, 5\n",
    "0, 1, 5\n",
    "0, 0, 5\n",
    "0, 0, 5\n",
    "0, 0, 5\n",
    "0, 0, 4\n",
    "0, 0, 4\n",
    "0, 0, 4\n",
    "0, 0, 5\n",
    "0, 0, 4\n",
    "0, 0, 1\n",
    "0, 0, 3\n",
    "0, 0, 5\n",
    "0, 0, 5\n",
    "0, 0, 5\n",
    "0, 0, 5\n",
    "1, 0, 4\n",
    "0, 0, 4\n",
    "0, 0, 4\n",
    "0, 0, 4\n",
    "0, 0, 4\n",
    "0, 0, 3\n",
    "0, 0, 4\n",
    "0, 1, 4\n",
    "0, 0, 5\n",
    "0, 0, 5\n",
    "0, 0, 2\n",
    "0, 0, 4\n",
    "0, 0, 3\n",
    "0, 0, 2\n",
    "0, 0, 5\n",
    "0, 0, 5\n",
    "0, 0, 4\n",
    "0, 0, 4\n",
    "0, 0, 4\n",
    "1, 0, 4\n",
    "1, 0, 5\n",
    "0, 0, 5\n",
    "0, 0, 1\n",
    "0, 0, 1\n",
    "0, 0, 4\n",
    "0, 0, 5\n",
    "1, 0, 4\n",
    "0, 0, 5\n",
    "0, 0, 5\n",
    "0, 0, 3\n",
    "1, 0, 4\n",
    "0, 1, 3\n",
    "0, 0, 4\n",
    "0, 0, 5\n",
    "0, 0, 5\n",
    "0, 0, 5\n",
    "0, 0, 4\n",
    "0, 0, 5\n",
    "0, 0, 4\n",
    "0, 0, 3\n",
    "0, 0, 2\n",
    "0, 0, 5\n",
    "1, 0, 5\n",
    "0, 0, 5\n",
    "0, 0, 5\n",
    "0, 0, 5\n",
    "0, 0, 2\n",
    "0, 0, 4\n",
    "0, 0, 4\n",
    "0, 0, 4\n",
    "0, 0, 5\n",
    "0, 0, 3\n",
    "0, 0, 5\n",
    "0, 0, 5\n",
    "0, 0, 5\n",
    "0, 0, 5\n",
    "0, 0, 4\n",
    "0, 0, 5\n",
    "0, 0, 5\n",
    "0, 0, 5\n",
    "0, 0, 5\n",
    "0, 0, 3\n",
    "1, 0, 4\n",
    "0, 0, 4\n",
    "0, 0, 4\n",
    "0, 0, 4\n",
    "0, 0, 4\n",
    "0, 0, 5\n",
    "0, 0, 5\n",
    "0, 0, 5\n",
    "0, 0, 4\n",
    "0, 0, 5\n",
    "1, 0, 3\n",
    "0, 0, 4\n",
    "0, 0, 4\n",
    "0, 0, 4\n",
    "\"\"\""
   ]
  },
  {
   "cell_type": "code",
   "execution_count": 6,
   "metadata": {},
   "outputs": [
    {
     "name": "stdout",
     "output_type": "stream",
     "text": [
      "100\n",
      "[1, 0, 3]\n"
     ]
    }
   ],
   "source": [
    "all_annotations = []\n",
    "\n",
    "for line in annotations.split(\"\\n\"):\n",
    "    if line:\n",
    "        annotation = line.split(\", \")\n",
    "        annotation = [int(a) for a in annotation]\n",
    "        all_annotations.append(annotation)\n",
    "\n",
    "print(len(all_annotations))\n",
    "print(all_annotations[2])\n"
   ]
  },
  {
   "cell_type": "code",
   "execution_count": 7,
   "metadata": {},
   "outputs": [],
   "source": [
    "total_rule_errors = sum(row[0] for row in all_annotations)\n",
    "total_instruction_errors = sum(row[1] for row in all_annotations)\n",
    "total_response_rates = sum(row[2] for row in all_annotations)\n",
    "mean_response_rate = total_response_rates / len(all_annotations)"
   ]
  },
  {
   "cell_type": "code",
   "execution_count": 8,
   "metadata": {},
   "outputs": [
    {
     "name": "stdout",
     "output_type": "stream",
     "text": [
      "9\n",
      "5\n",
      "418\n",
      "4.18\n"
     ]
    }
   ],
   "source": [
    "print(total_rule_errors)\n",
    "print(total_instruction_errors)\n",
    "print(total_response_rates)\n",
    "print(mean_response_rate)"
   ]
  },
  {
   "cell_type": "code",
   "execution_count": null,
   "metadata": {},
   "outputs": [],
   "source": []
  }
 ],
 "metadata": {
  "kernelspec": {
   "display_name": "Python 3",
   "language": "python",
   "name": "python3"
  },
  "language_info": {
   "codemirror_mode": {
    "name": "ipython",
    "version": 3
   },
   "file_extension": ".py",
   "mimetype": "text/x-python",
   "name": "python",
   "nbconvert_exporter": "python",
   "pygments_lexer": "ipython3",
   "version": "3.10.13"
  }
 },
 "nbformat": 4,
 "nbformat_minor": 2
}
